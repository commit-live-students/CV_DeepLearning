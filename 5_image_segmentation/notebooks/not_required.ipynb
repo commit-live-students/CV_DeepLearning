{
 "cells": [
  {
   "cell_type": "markdown",
   "metadata": {},
   "source": [
    "## Selecting The datasets. "
   ]
  },
  {
   "cell_type": "code",
   "execution_count": 2,
   "metadata": {},
   "outputs": [
    {
     "data": {
      "text/plain": [
       "5500"
      ]
     },
     "execution_count": 2,
     "metadata": {},
     "output_type": "execute_result"
    }
   ],
   "source": [
    "import glob\n",
    "import numpy as np \n",
    "from visualize import random_colors\n",
    "imgs = glob.glob(\"../../data/cocostuff/images/stuff_train/*.png\")\n",
    "len(imgs)"
   ]
  },
  {
   "cell_type": "code",
   "execution_count": 43,
   "metadata": {},
   "outputs": [
    {
     "data": {
      "text/plain": [
       "(427, 640, 3)"
      ]
     },
     "execution_count": 43,
     "metadata": {},
     "output_type": "execute_result"
    }
   ],
   "source": [
    "from PIL import Image\n",
    "x = np.asarray(Image.open(imgs[3]))\n",
    "x = np.expand_dims(x, 2)\n",
    "x = np.concatenate([x, x, x], 2)\n",
    "x.shape"
   ]
  },
  {
   "cell_type": "code",
   "execution_count": 44,
   "metadata": {},
   "outputs": [
    {
     "data": {
      "text/plain": [
       "array([  0,  41, 154, 255], dtype=uint8)"
      ]
     },
     "execution_count": 44,
     "metadata": {},
     "output_type": "execute_result"
    }
   ],
   "source": [
    "np.unique(x)"
   ]
  },
  {
   "cell_type": "code",
   "execution_count": 45,
   "metadata": {},
   "outputs": [
    {
     "data": {
      "text/plain": [
       "[(0.5, 1.0, 0.0), (0.0, 1.0, 1.0), (1.0, 0.0, 0.0), (0.5, 0.0, 1.0)]"
      ]
     },
     "execution_count": 45,
     "metadata": {},
     "output_type": "execute_result"
    }
   ],
   "source": [
    "colors = random_colors(np.unique(x).shape[0])\n",
    "colors"
   ]
  },
  {
   "cell_type": "code",
   "execution_count": 46,
   "metadata": {},
   "outputs": [],
   "source": [
    "k = x.copy()\n",
    "unique = np.unique(k)\n",
    "for h in range(k.shape[0]):\n",
    "    for w in range(k.shape[1]):\n",
    "        val = int(k[h, w, 0])\n",
    "        index = np.where(unique == val)\n",
    "        color = colors[int(index[0])]\n",
    "        k[h, w, :] = [i*255 for i in color]"
   ]
  },
  {
   "cell_type": "code",
   "execution_count": 48,
   "metadata": {},
   "outputs": [
    {
     "data": {
      "text/plain": [
       "'../../data/cocostuff/images/stuff_train/000000547830.png'"
      ]
     },
     "execution_count": 48,
     "metadata": {},
     "output_type": "execute_result"
    }
   ],
   "source": [
    "imgs[3]"
   ]
  },
  {
   "cell_type": "code",
   "execution_count": 52,
   "metadata": {},
   "outputs": [],
   "source": [
    "Image.open('../../data/cocostuff/images/train/000000547830.jpg').save(\"myimg1.png\")"
   ]
  },
  {
   "cell_type": "code",
   "execution_count": 51,
   "metadata": {},
   "outputs": [],
   "source": [
    "Image.fromarray(k).save(\"mymask1.png\")"
   ]
  },
  {
   "cell_type": "code",
   "execution_count": 60,
   "metadata": {},
   "outputs": [],
   "source": [
    "mx = np.asarray(Image.open(imgs[3]))\n",
    "k = mx.copy()\n",
    "unique = np.unique(mx)\n",
    "for h in range(mx.shape[0]):\n",
    "    for w in range(mx.shape[1]):\n",
    "        val = int(mx[h, w])\n",
    "        index = int(np.where(unique == val)[0])\n",
    "        k[h, w] = index"
   ]
  },
  {
   "cell_type": "code",
   "execution_count": null,
   "metadata": {},
   "outputs": [],
   "source": [
    "k.shape"
   ]
  },
  {
   "cell_type": "code",
   "execution_count": null,
   "metadata": {},
   "outputs": [],
   "source": [
    "k.shape"
   ]
  },
  {
   "cell_type": "code",
   "execution_count": 3,
   "metadata": {},
   "outputs": [],
   "source": [
    "import pycocotools.coco as coco"
   ]
  },
  {
   "cell_type": "code",
   "execution_count": 32,
   "metadata": {},
   "outputs": [
    {
     "name": "stdout",
     "output_type": "stream",
     "text": [
      "loading annotations into memory...\n",
      "Done (t=1.46s)\n",
      "creating index...\n",
      "index created!\n"
     ]
    },
    {
     "data": {
      "text/plain": [
       "<pycocotools.coco.COCO at 0x7f8eea49fe48>"
      ]
     },
     "execution_count": 32,
     "metadata": {},
     "output_type": "execute_result"
    }
   ],
   "source": [
    "data = coco.COCO(\"../../datasets/annotations/instances_val2017.json\")\n",
    "data"
   ]
  },
  {
   "cell_type": "code",
   "execution_count": 5,
   "metadata": {},
   "outputs": [
    {
     "data": {
      "text/plain": [
       "<pycocotools.coco.COCO at 0x7f8f07a79be0>"
      ]
     },
     "execution_count": 5,
     "metadata": {},
     "output_type": "execute_result"
    }
   ],
   "source": [
    "## Collect all the image_ids which have > 10 people"
   ]
  },
  {
   "cell_type": "code",
   "execution_count": 33,
   "metadata": {},
   "outputs": [
    {
     "data": {
      "text/plain": [
       "397133"
      ]
     },
     "execution_count": 33,
     "metadata": {},
     "output_type": "execute_result"
    }
   ],
   "source": [
    "img_ids = list(data.imgs.keys())\n",
    "img_ids[0]"
   ]
  },
  {
   "cell_type": "code",
   "execution_count": 34,
   "metadata": {},
   "outputs": [
    {
     "data": {
      "text/plain": [
       "[82445,\n",
       " 119568,\n",
       " 200887,\n",
       " 693231,\n",
       " 713388,\n",
       " 716434,\n",
       " 1125079,\n",
       " 1218137,\n",
       " 1878837,\n",
       " 1883614,\n",
       " 1902250,\n",
       " 1902971,\n",
       " 1914453,\n",
       " 2105658,\n",
       " 2114911,\n",
       " 2114949,\n",
       " 2139366,\n",
       " 2188144,\n",
       " 2196309]"
      ]
     },
     "execution_count": 34,
     "metadata": {},
     "output_type": "execute_result"
    }
   ],
   "source": [
    "anns = data.getAnnIds(imgIds= img_ids[0])\n",
    "anns"
   ]
  },
  {
   "cell_type": "code",
   "execution_count": 35,
   "metadata": {},
   "outputs": [
    {
     "data": {
      "text/plain": [
       "44"
      ]
     },
     "execution_count": 35,
     "metadata": {},
     "output_type": "execute_result"
    }
   ],
   "source": [
    "data.anns[anns[0]][\"category_id\"]"
   ]
  },
  {
   "cell_type": "code",
   "execution_count": 36,
   "metadata": {},
   "outputs": [],
   "source": [
    "buck1 = []\n",
    "buck2 = []\n",
    "buck3 = []\n",
    "for i in img_ids:\n",
    "    anns = data.getAnnIds(imgIds = i)\n",
    "    cat_ids = [data.anns[i][\"category_id\"] for i in anns]\n",
    "    counter = len([i for i in cat_ids if i == 1])\n",
    "    if counter > 10:\n",
    "        buck1.append(i)\n",
    "    elif counter >=5 and counter <=10:\n",
    "        buck2.append(i)\n",
    "    else:\n",
    "        buck3.append(i)"
   ]
  },
  {
   "cell_type": "code",
   "execution_count": 37,
   "metadata": {},
   "outputs": [
    {
     "data": {
      "text/plain": [
       "339"
      ]
     },
     "execution_count": 37,
     "metadata": {},
     "output_type": "execute_result"
    }
   ],
   "source": [
    "len(buck1)"
   ]
  },
  {
   "cell_type": "code",
   "execution_count": 38,
   "metadata": {},
   "outputs": [
    {
     "data": {
      "text/plain": [
       "457"
      ]
     },
     "execution_count": 38,
     "metadata": {},
     "output_type": "execute_result"
    }
   ],
   "source": [
    "len(buck2)"
   ]
  },
  {
   "cell_type": "code",
   "execution_count": 39,
   "metadata": {},
   "outputs": [
    {
     "data": {
      "text/plain": [
       "4204"
      ]
     },
     "execution_count": 39,
     "metadata": {},
     "output_type": "execute_result"
    }
   ],
   "source": [
    "len(buck3)"
   ]
  },
  {
   "cell_type": "code",
   "execution_count": 40,
   "metadata": {},
   "outputs": [],
   "source": [
    "import random\n",
    "random.shuffle(buck3)\n",
    "random.shuffle(buck2)\n",
    "random.shuffle(buck1)\n",
    "buck3_sample = buck3\n",
    "buck2_sample = buck2\n",
    "buck1_sample = buck1"
   ]
  },
  {
   "cell_type": "code",
   "execution_count": 41,
   "metadata": {},
   "outputs": [],
   "source": [
    "bs3 = [data.imgs[i][\"file_name\"].rsplit(\".\")[0] for i in buck3_sample]\n",
    "bs2 = [data.imgs[i][\"file_name\"].rsplit(\".\")[0] for i in buck2_sample]\n",
    "bs1 = [data.imgs[i][\"file_name\"].rsplit(\".\")[0] for i in buck1_sample]"
   ]
  },
  {
   "cell_type": "code",
   "execution_count": 42,
   "metadata": {},
   "outputs": [
    {
     "data": {
      "text/plain": [
       "5000"
      ]
     },
     "execution_count": 42,
     "metadata": {},
     "output_type": "execute_result"
    }
   ],
   "source": [
    "bs = bs3+bs2+bs1\n",
    "len(bs)"
   ]
  },
  {
   "cell_type": "code",
   "execution_count": 43,
   "metadata": {},
   "outputs": [],
   "source": [
    "train = open(\"val.txt\", \"w\")\n",
    "for i in bs:\n",
    "    train.write(\"{} \\n\".format(i))"
   ]
  },
  {
   "cell_type": "code",
   "execution_count": null,
   "metadata": {},
   "outputs": [],
   "source": []
  }
 ],
 "metadata": {
  "kernelspec": {
   "display_name": "Python (keras)",
   "language": "python",
   "name": "keras"
  },
  "language_info": {
   "codemirror_mode": {
    "name": "ipython",
    "version": 3
   },
   "file_extension": ".py",
   "mimetype": "text/x-python",
   "name": "python",
   "nbconvert_exporter": "python",
   "pygments_lexer": "ipython3",
   "version": "3.6.6"
  }
 },
 "nbformat": 4,
 "nbformat_minor": 2
}
