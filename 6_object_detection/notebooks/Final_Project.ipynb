{
 "cells": [
  {
   "cell_type": "markdown",
   "metadata": {},
   "source": [
    "## Project: Object detection\n",
    "Welcome back guys. Now this is the final step of your course module. Yes this is the application project. We will apply all the learned knowledge in here to create an interesting application based on object detection. We will use the different dataset called football detection dataset.\n",
    "\n",
    "## Tasks\n",
    "- Write code to do the following things \n",
    "   - visualize with bbox \n",
    "   - histogram of number of instances per image\n",
    "   - histogram of size of the objects \n",
    "   - histogram of aspect ratios of the objects \n",
    "- train the network for 10 epochs and calculate the mAP \n",
    "\n",
    "## Dataset.\n",
    "\n",
    "The dataset contains snapshot of images from various football matches. All the images are annotated with football using xyxy notation. There are a total of 4177 train images and 764 validation images. Detection of football will allow the video camreas to focus on the ball and the surrondings, allowing us to track the ball movement from time to time and open up new possibilities for calculating various other KPIs, improve video quality, reply analysis and better highlights in the soccer commumity. "
   ]
  },
  {
   "cell_type": "markdown",
   "metadata": {},
   "source": [
    "## 1.1 Visualize with bbox\n",
    "Before starting any machine learning problem, it is good to have proper understanding of the data. In machine vision problems, one get proper understanding of the data by looking into the images and calculating various statistics. In this process visualizing bboxes on the images is very crutial as you want to know what your model is getting trained. The bbox coordinates are shared in different formats (xxyy, xyxy, xyhw, xywh) and sometimes scaled by image height and width etc, so to understand data well, it is always advised to visualize the data first along with coordinates and this is going to be our first task.\n",
    "\n",
    "Read the train.csv file. select the image_id \"72d1210d48a2dd4e\" and plot the football labels on the image using draw_grid function available in utils.py."
   ]
  },
  {
   "cell_type": "code",
   "execution_count": 87,
   "metadata": {},
   "outputs": [],
   "source": [
    "## Import necessary libraries \n",
    "import pandas as pd\n",
    "from PIL import Image\n",
    "from utils import draw_grid\n",
    "\n",
    "## Root location\n",
    "root = \"/mnt/nfshome1/FRACTAL/vanapalli.prakash/Desktop/data/\"\n",
    "imgid = \"72d1210d48a2dd4e\"\n",
    "\n",
    "## Read the dataframe\n",
    "train = pd.read_csv(root+\"x_train.csv\", header=None)\n",
    "print(train.shape)\n",
    "\n",
    "## Select the image bboxs \n",
    "bbox = train[train[0] == imgid][[1, 2, 3, 4]].values\n",
    "print(bbox)\n",
    "\n",
    "## select the labels \n",
    "labels = train[train[0] == imgid][5].values\n",
    "print(labels)\n",
    "\n",
    "## Read the image\n",
    "img_loc = root+\"football/\"+imgid+\".jpg\"\n",
    "img = Image.open(img_loc)\n",
    "\n",
    "## Draw bouding box on the image\n",
    "image_with_grid= draw_grid(img.copy(), bbox, labels, outline=\"red\", input_format=\"xyxy\")\n",
    "image_with_grid"
   ]
  },
  {
   "cell_type": "markdown",
   "metadata": {},
   "source": [
    "## 1.2 histogram of number of instances per image\n",
    "How many objects are there per image ? is often the most important question object detection researchers need to ask for them selves. This will let us check if the data is skewed, any outliers etc\n",
    "\n",
    "Read the train.csv file, count the instances of football for each image and use matplotlib to plot the histogram."
   ]
  },
  {
   "cell_type": "code",
   "execution_count": 91,
   "metadata": {},
   "outputs": [
    {
     "data": {
      "image/png": "[encoded data removed]",
      "text/plain": [
       "<Figure size 864x432 with 1 Axes>"
      ]
     },
     "metadata": {
      "needs_background": "light"
     },
     "output_type": "display_data"
    }
   ],
   "source": [
    "import pandas as pd\n",
    "import matplotlib.pyplot as plt \n",
    "%matplotlib inline \n",
    "\n",
    "## Root location\n",
    "root = \"/mnt/nfshome1/FRACTAL/vanapalli.prakash/Desktop/data/\"\n",
    "\n",
    "## Read the data\n",
    "train = pd.read_csv(root+\"x_train.csv\", header=None)\n",
    "\n",
    "## take counts of each ImageID\n",
    "counts = train[0].value_counts().values\n",
    "\n",
    "## plot using matplotlib\n",
    "plt.figure(figsize=(12, 6))\n",
    "plt.hist(counts, bins=30)\n",
    "plt.show()"
   ]
  },
  {
   "cell_type": "markdown",
   "metadata": {},
   "source": [
    "## 1.3 histogram of size of the objects\n",
    "knowing the size of the objects will let us know whether to use FPN and which layers of resnet architecture to use etc. "
   ]
  },
  {
   "cell_type": "code",
   "execution_count": 97,
   "metadata": {},
   "outputs": [
    {
     "data": {
      "image/png": "[encoded data removed]",
      "text/plain": [
       "<Figure size 864x432 with 1 Axes>"
      ]
     },
     "metadata": {
      "needs_background": "light"
     },
     "output_type": "display_data"
    }
   ],
   "source": [
    "import pandas as pd\n",
    "import matplotlib.pyplot as plt \n",
    "%matplotlib inline \n",
    "\n",
    "## Root location\n",
    "root = \"/mnt/nfshome1/FRACTAL/vanapalli.prakash/Desktop/data/\"\n",
    "\n",
    "## Read the data\n",
    "train = pd.read_csv(root+\"x_train.csv\", header=None)\n",
    "\n",
    "## calculate area o fthe objects \n",
    "size = ((train[3] - train[1]) * (train[4] - train[2])).values\n",
    "\n",
    "## plot using matplotlib\n",
    "plt.figure(figsize=(12, 6))\n",
    "plt.hist(size, bins=30)\n",
    "plt.show()"
   ]
  },
  {
   "cell_type": "markdown",
   "metadata": {},
   "source": [
    "## 1.4 histogram of aspect ratios of the objects\n",
    "\n",
    "Ratios and scales we are using are usually derived from the data. We can check the aspect ratios of your objects and change these values accordingly. For doing so we first need to compute aspect ratios (h/w) of all the objects."
   ]
  },
  {
   "cell_type": "code",
   "execution_count": 100,
   "metadata": {},
   "outputs": [
    {
     "data": {
      "image/png": "[encoded data removed]",
      "text/plain": [
       "<Figure size 864x432 with 1 Axes>"
      ]
     },
     "metadata": {
      "needs_background": "light"
     },
     "output_type": "display_data"
    }
   ],
   "source": [
    "import pandas as pd\n",
    "import matplotlib.pyplot as plt \n",
    "%matplotlib inline \n",
    "\n",
    "## Root location\n",
    "root = \"/mnt/nfshome1/FRACTAL/vanapalli.prakash/Desktop/data/\"\n",
    "\n",
    "## Read the data\n",
    "train = pd.read_csv(root+\"x_train.csv\", header=None)\n",
    "\n",
    "## calculate area o fthe objects (h/w)\n",
    "aspect_ratio = ( (train[4] - train[2])/ (train[3] - train[1])).values\n",
    "\n",
    "## plot using matplotlib\n",
    "plt.figure(figsize=(12, 6))\n",
    "plt.hist(aspect_ratio, bins=30)\n",
    "plt.show()"
   ]
  },
  {
   "cell_type": "markdown",
   "metadata": {},
   "source": [
    "## 2.1 train the network for 10 epochs and calculate the mAP \n",
    "Lets use our 05_practical_101 session in the task. We need to train our football detector. for which we need the following things.\n",
    "\n",
    "- read train and val files.\n",
    "- set up the environment and start the session\n",
    "- load the data generators - we will be using resnet50 as the backend.\n",
    "- set the image_min_side as 800 and max side as 1333 and use batch_size of 2.\n",
    "- Load prediction model and training model\n",
    "- create callbacks for evaluation, schedular and snapshots\n",
    "- train for 10 epochs. since training images are ~4200 and batch_size is 2. Lets use steps per epoch as 2100( 4200/2)."
   ]
  },
  {
   "cell_type": "code",
   "execution_count": 1,
   "metadata": {},
   "outputs": [
    {
     "name": "stdout",
     "output_type": "stream",
     "text": [
      "(4177, 6) (764, 6)\n"
     ]
    }
   ],
   "source": [
    "import pandas as pd \n",
    "\n",
    "## Root location\n",
    "root = \"/mnt/nfshome1/FRACTAL/vanapalli.prakash/Desktop/data/\"\n",
    "\n",
    "## Read train and val files\n",
    "train = pd.read_csv(root+\"x_train.csv\", header=None)\n",
    "val = pd.read_csv(root+\"x_val.csv\", header=None)\n",
    "print(train.shape, val.shape)"
   ]
  },
  {
   "cell_type": "code",
   "execution_count": 2,
   "metadata": {},
   "outputs": [
    {
     "data": {
      "text/html": [
       "<div>\n",
       "<style scoped>\n",
       "    .dataframe tbody tr th:only-of-type {\n",
       "        vertical-align: middle;\n",
       "    }\n",
       "\n",
       "    .dataframe tbody tr th {\n",
       "        vertical-align: top;\n",
       "    }\n",
       "\n",
       "    .dataframe thead th {\n",
       "        text-align: right;\n",
       "    }\n",
       "</style>\n",
       "<table border=\"1\" class=\"dataframe\">\n",
       "  <thead>\n",
       "    <tr style=\"text-align: right;\">\n",
       "      <th></th>\n",
       "      <th>0</th>\n",
       "      <th>1</th>\n",
       "      <th>2</th>\n",
       "      <th>3</th>\n",
       "      <th>4</th>\n",
       "      <th>5</th>\n",
       "    </tr>\n",
       "  </thead>\n",
       "  <tbody>\n",
       "    <tr>\n",
       "      <th>0</th>\n",
       "      <td>000067f3419a12fe.jpg</td>\n",
       "      <td>126</td>\n",
       "      <td>526</td>\n",
       "      <td>232</td>\n",
       "      <td>634</td>\n",
       "      <td>football</td>\n",
       "    </tr>\n",
       "    <tr>\n",
       "      <th>1</th>\n",
       "      <td>0000c4f95a9d5a54.jpg</td>\n",
       "      <td>601</td>\n",
       "      <td>802</td>\n",
       "      <td>743</td>\n",
       "      <td>942</td>\n",
       "      <td>football</td>\n",
       "    </tr>\n",
       "    <tr>\n",
       "      <th>2</th>\n",
       "      <td>0005c78e30d1e388.jpg</td>\n",
       "      <td>194</td>\n",
       "      <td>794</td>\n",
       "      <td>280</td>\n",
       "      <td>871</td>\n",
       "      <td>football</td>\n",
       "    </tr>\n",
       "    <tr>\n",
       "      <th>3</th>\n",
       "      <td>0006d33feb26fe48.jpg</td>\n",
       "      <td>699</td>\n",
       "      <td>102</td>\n",
       "      <td>732</td>\n",
       "      <td>133</td>\n",
       "      <td>football</td>\n",
       "    </tr>\n",
       "    <tr>\n",
       "      <th>4</th>\n",
       "      <td>0009590f2c11c93d.jpg</td>\n",
       "      <td>428</td>\n",
       "      <td>594</td>\n",
       "      <td>465</td>\n",
       "      <td>629</td>\n",
       "      <td>football</td>\n",
       "    </tr>\n",
       "  </tbody>\n",
       "</table>\n",
       "</div>"
      ],
      "text/plain": [
       "                      0    1    2    3    4         5\n",
       "0  000067f3419a12fe.jpg  126  526  232  634  football\n",
       "1  0000c4f95a9d5a54.jpg  601  802  743  942  football\n",
       "2  0005c78e30d1e388.jpg  194  794  280  871  football\n",
       "3  0006d33feb26fe48.jpg  699  102  732  133  football\n",
       "4  0009590f2c11c93d.jpg  428  594  465  629  football"
      ]
     },
     "execution_count": 2,
     "metadata": {},
     "output_type": "execute_result"
    }
   ],
   "source": [
    "train.head()"
   ]
  },
  {
   "cell_type": "code",
   "execution_count": 3,
   "metadata": {},
   "outputs": [
    {
     "name": "stderr",
     "output_type": "stream",
     "text": [
      "Using TensorFlow backend.\n"
     ]
    }
   ],
   "source": [
    "import os \n",
    "import tensorflow as tf \n",
    "import keras\n",
    "\n",
    "## using gpu0\n",
    "os.environ['CUDA_VISIBLE_DEVICES'] = \"1\"\n",
    "\n",
    "## start the session\n",
    "def get_session():\n",
    "    \"\"\" Construct a modified tf session.\n",
    "    \"\"\"\n",
    "    config = tf.ConfigProto()\n",
    "    config.gpu_options.allow_growth = True\n",
    "    return tf.Session(config=config)\n",
    "\n",
    "keras.backend.tensorflow_backend.set_session(get_session())"
   ]
  },
  {
   "cell_type": "code",
   "execution_count": 4,
   "metadata": {},
   "outputs": [
    {
     "name": "stdout",
     "output_type": "stream",
     "text": [
      "['0.5', '1.', '2.']\n"
     ]
    }
   ],
   "source": [
    "from keras_retinanet import models\n",
    "from keras_retinanet.utils.config import read_config_file\n",
    "from keras_retinanet.utils.transform import random_transform_generator\n",
    "from keras_retinanet.preprocessing.csv_generator import CSVGenerator\n",
    "\n",
    "\n",
    "## Read the config file which contains all the parameters\n",
    "config = read_config_file(root+\"config.ini\")\n",
    "print(config[\"anchor_parameters\"][\"ratios\"].split(\" \"))\n",
    "\n",
    "backbone = models.backbone(\"resnet50\")\n",
    "\n",
    "batch_size = 2 \n",
    "image_min_side = 800\n",
    "image_max_side = 1333 \n",
    "preprocess_image = backbone.preprocess_image\n",
    "\n",
    "\n",
    "## start the genertor\n",
    "transform_generator = random_transform_generator(\n",
    "            min_rotation=-0.1,\n",
    "            max_rotation=0.1,\n",
    "            min_translation=(-0.1, -0.1),\n",
    "            max_translation=(0.1, 0.1),\n",
    "            min_shear=-0.1,\n",
    "            max_shear=0.1,\n",
    "            min_scaling=(0.9, 0.9),\n",
    "            max_scaling=(1.1, 1.1),\n",
    "            flip_x_chance=0.5,\n",
    "            flip_y_chance=0.5,\n",
    ")\n",
    "\n",
    "train_ann_loc = root+ \"x_train.csv\"\n",
    "classes_loc = root+ \"class_id.csv\"\n",
    "val_ann_loc = root+ \"x_val.csv\"\n",
    "train_generator = CSVGenerator(train_ann_loc,\n",
    "                               classes_loc,\n",
    "                               base_dir = root+\"football/\",\n",
    "                               transform_generator=transform_generator,\n",
    "                               batch_size = batch_size, \n",
    "                               image_min_side = image_min_side, \n",
    "                               image_max_side = image_max_side, \n",
    "                               preprocess_image = preprocess_image,\n",
    "                               config = config)\n",
    "\n",
    "validation_generator = CSVGenerator(val_ann_loc,\n",
    "                                    classes_loc,\n",
    "                                    base_dir = root+\"football/\",\n",
    "                                    batch_size = batch_size,\n",
    "                                    image_min_side = image_min_side, \n",
    "                                    image_max_side = image_max_side, \n",
    "                                    preprocess_image = preprocess_image,\n",
    "                                    config = config)"
   ]
  },
  {
   "cell_type": "code",
   "execution_count": 5,
   "metadata": {},
   "outputs": [
    {
     "name": "stdout",
     "output_type": "stream",
     "text": [
      "WARNING:tensorflow:From /mnt/nfshome1/FRACTAL/vanapalli.prakash/miniconda3/envs/keras/lib/python3.6/site-packages/tensorflow/python/framework/op_def_library.py:263: colocate_with (from tensorflow.python.framework.ops) is deprecated and will be removed in a future version.\n",
      "Instructions for updating:\n",
      "Colocations handled automatically by placer.\n"
     ]
    },
    {
     "name": "stderr",
     "output_type": "stream",
     "text": [
      "/mnt/nfshome1/FRACTAL/vanapalli.prakash/miniconda3/envs/keras/lib/python3.6/site-packages/keras/engine/saving.py:1140: UserWarning: Skipping loading of weights for layer classification_submodel due to mismatch in shape ((3, 3, 256, 9) vs (720, 256, 3, 3)).\n",
      "  weight_values[i].shape))\n",
      "/mnt/nfshome1/FRACTAL/vanapalli.prakash/miniconda3/envs/keras/lib/python3.6/site-packages/keras/engine/saving.py:1140: UserWarning: Skipping loading of weights for layer classification_submodel due to mismatch in shape ((9,) vs (720,)).\n",
      "  weight_values[i].shape))\n"
     ]
    }
   ],
   "source": [
    "from keras_retinanet.utils.config import parse_anchor_parameters\n",
    "from keras_retinanet.models.retinanet import retinanet_bbox\n",
    "from keras_retinanet.bin.train import create_models\n",
    "\n",
    "## Load the param file\n",
    "anchor_params = parse_anchor_parameters(config)\n",
    "\n",
    "## Load the weights file\n",
    "model_path = \"../../weight_files_imp/resnet50_coco_best_v2.1.0.h5\"\n",
    "#weights = backbone.download_imagenet()\n",
    "\n",
    "## Create models with pretrained weights and other details.\n",
    "## we are using only 1 gpu, and set the learning rate as \n",
    "model, training_model, prediction_model = create_models(\n",
    "    backbone_retinanet=backbone.retinanet,\n",
    "    num_classes=train_generator.num_classes(),\n",
    "    weights=model_path,\n",
    "    multi_gpu=0,\n",
    "    freeze_backbone=False,\n",
    "    lr=1e-5,\n",
    "    config=config)"
   ]
  },
  {
   "cell_type": "code",
   "execution_count": 7,
   "metadata": {},
   "outputs": [],
   "source": [
    "from keras_retinanet.callbacks.eval import Evaluate\n",
    "from keras_retinanet.callbacks import RedirectModel\n",
    "\n",
    "## Initialize the evaluator\n",
    "evaluation = Evaluate(validation_generator, weighted_average=True)\n",
    "evaluation = RedirectModel(evaluation, prediction_model)\n",
    "\n",
    "## Model weights (Create this folder if not present)\n",
    "snapshot_path = \"model_weights/\"\n",
    "\n",
    "if not os.path.exists(snapshot_path):\n",
    "    os.makedirs(snapshot_path)\n",
    "\n",
    "# Our dataset type is csv\n",
    "dataset_type = \"csv\"\n",
    "\n",
    "# Define checkpoint\n",
    "checkpoint = keras.callbacks.ModelCheckpoint(\n",
    "            os.path.join(\n",
    "                snapshot_path,\n",
    "                '{backbone}_{dataset_type}_{{epoch:02d}}.h5'.format(backbone=backbone, dataset_type=\"csv\")\n",
    "            ),\n",
    "            verbose=1,\n",
    "            # save_best_only=True,\n",
    "            # monitor=\"mAP\",\n",
    "            # mode='max'\n",
    "        )\n",
    "\n",
    "# Create checkpoint to store model weights after each epoch\n",
    "checkpoint = RedirectModel(checkpoint, model)\n",
    "\n",
    "## create a schedular. We will be using ReduceLRONplateau\n",
    "sched = keras.callbacks.ReduceLROnPlateau(\n",
    "        monitor    = 'loss',\n",
    "        factor     = 0.1,\n",
    "        patience   = 2,\n",
    "        verbose    = 1,\n",
    "        mode       = 'auto',\n",
    "        min_delta  = 0.0001,\n",
    "        cooldown   = 0,\n",
    "        min_lr     = 0\n",
    ")\n",
    "\n",
    "## Set all the call backs\n",
    "callbacks = [evaluation, checkpoint, sched]"
   ]
  },
  {
   "cell_type": "code",
   "execution_count": 8,
   "metadata": {},
   "outputs": [
    {
     "name": "stdout",
     "output_type": "stream",
     "text": [
      "Epoch 1/10\n",
      "2200/2200 [==============================] - 1296s 589ms/step - loss: 0.9280 - regression_loss: 0.7008 - classification_loss: 0.2272 - val_loss: 0.8157 - val_regression_loss: 0.6702 - val_classification_loss: 0.1455\n"
     ]
    },
    {
     "name": "stderr",
     "output_type": "stream",
     "text": [
      "Running network: 100% (629 of 629) |#####| Elapsed Time: 0:02:43 Time:  0:02:43\n",
      "Parsing annotations: 100% (629 of 629) |#| Elapsed Time: 0:00:00 Time:  0:00:00\n"
     ]
    },
    {
     "name": "stdout",
     "output_type": "stream",
     "text": [
      "764 instances of class football with average precision: 0.8719\n",
      "mAP: 0.8719\n",
      "\n",
      "Epoch 00001: saving model to model_weights/<keras_retinanet.models.resnet.ResNetBackbone object at 0x7fa37efcb470>_csv_01.h5\n",
      "Epoch 2/10\n",
      "2200/2200 [==============================] - 969s 441ms/step - loss: 0.7742 - regression_loss: 0.6473 - classification_loss: 0.1269 - val_loss: 0.8019 - val_regression_loss: 0.6776 - val_classification_loss: 0.1243\n"
     ]
    },
    {
     "name": "stderr",
     "output_type": "stream",
     "text": [
      "Running network: 100% (629 of 629) |#####| Elapsed Time: 0:01:26 Time:  0:01:26\n",
      "Parsing annotations: 100% (629 of 629) |#| Elapsed Time: 0:00:00 Time:  0:00:00\n"
     ]
    },
    {
     "name": "stdout",
     "output_type": "stream",
     "text": [
      "764 instances of class football with average precision: 0.8721\n",
      "mAP: 0.8721\n",
      "\n",
      "Epoch 00002: saving model to model_weights/<keras_retinanet.models.resnet.ResNetBackbone object at 0x7fa37efcb470>_csv_02.h5\n",
      "Epoch 3/10\n",
      "2200/2200 [==============================] - 970s 441ms/step - loss: 0.7371 - regression_loss: 0.6222 - classification_loss: 0.1149 - val_loss: 0.8869 - val_regression_loss: 0.6976 - val_classification_loss: 0.1893\n"
     ]
    },
    {
     "name": "stderr",
     "output_type": "stream",
     "text": [
      "Running network: 100% (629 of 629) |#####| Elapsed Time: 0:01:26 Time:  0:01:26\n",
      "Parsing annotations: 100% (629 of 629) |#| Elapsed Time: 0:00:00 Time:  0:00:00\n"
     ]
    },
    {
     "name": "stdout",
     "output_type": "stream",
     "text": [
      "764 instances of class football with average precision: 0.8741\n",
      "mAP: 0.8741\n",
      "\n",
      "Epoch 00003: saving model to model_weights/<keras_retinanet.models.resnet.ResNetBackbone object at 0x7fa37efcb470>_csv_03.h5\n",
      "Epoch 4/10\n",
      " 986/2200 [============>.................] - ETA: 8:27 - loss: 0.7125 - regression_loss: 0.6096 - classification_loss: 0.1028764 instances of class football with average precision: 0.8767\n",
      "mAP: 0.8767\n",
      "\n",
      "Epoch 00004: saving model to model_weights/<keras_retinanet.models.resnet.ResNetBackbone object at 0x7fa37efcb470>_csv_04.h5\n",
      "Epoch 5/10\n",
      "2200/2200 [==============================] - 971s 441ms/step - loss: 0.6695 - regression_loss: 0.5810 - classification_loss: 0.0885 - val_loss: 0.8145 - val_regression_loss: 0.6487 - val_classification_loss: 0.1658\n"
     ]
    },
    {
     "name": "stderr",
     "output_type": "stream",
     "text": [
      "Running network: 100% (629 of 629) |#####| Elapsed Time: 0:01:26 Time:  0:01:26\n",
      "Parsing annotations: 100% (629 of 629) |#| Elapsed Time: 0:00:00 Time:  0:00:00\n"
     ]
    },
    {
     "name": "stdout",
     "output_type": "stream",
     "text": [
      "764 instances of class football with average precision: 0.8791\n",
      "mAP: 0.8791\n",
      "\n",
      "Epoch 00005: saving model to model_weights/<keras_retinanet.models.resnet.ResNetBackbone object at 0x7fa37efcb470>_csv_05.h5\n",
      "Epoch 6/10\n",
      "2200/2200 [==============================] - 975s 443ms/step - loss: 0.6672 - regression_loss: 0.5807 - classification_loss: 0.0865 - val_loss: 0.9485 - val_regression_loss: 0.6783 - val_classification_loss: 0.2701\n"
     ]
    },
    {
     "name": "stderr",
     "output_type": "stream",
     "text": [
      "Running network: 100% (629 of 629) |#####| Elapsed Time: 0:01:26 Time:  0:01:26\n",
      "Parsing annotations: 100% (629 of 629) |#| Elapsed Time: 0:00:00 Time:  0:00:00\n"
     ]
    },
    {
     "name": "stdout",
     "output_type": "stream",
     "text": [
      "764 instances of class football with average precision: 0.8767\n",
      "mAP: 0.8767\n",
      "\n",
      "Epoch 00006: saving model to model_weights/<keras_retinanet.models.resnet.ResNetBackbone object at 0x7fa37efcb470>_csv_06.h5\n",
      "Epoch 7/10\n",
      "2200/2200 [==============================] - 971s 441ms/step - loss: 0.6485 - regression_loss: 0.5681 - classification_loss: 0.0805 - val_loss: 0.8563 - val_regression_loss: 0.6825 - val_classification_loss: 0.1739\n"
     ]
    },
    {
     "name": "stderr",
     "output_type": "stream",
     "text": [
      "Running network: 100% (629 of 629) |#####| Elapsed Time: 0:01:25 Time:  0:01:25\n",
      "Parsing annotations: 100% (629 of 629) |#| Elapsed Time: 0:00:00 Time:  0:00:00\n"
     ]
    },
    {
     "name": "stdout",
     "output_type": "stream",
     "text": [
      "764 instances of class football with average precision: 0.8750\n",
      "mAP: 0.8750\n",
      "\n",
      "Epoch 00007: saving model to model_weights/<keras_retinanet.models.resnet.ResNetBackbone object at 0x7fa37efcb470>_csv_07.h5\n",
      "Epoch 8/10\n",
      "2200/2200 [==============================] - 974s 443ms/step - loss: 0.6395 - regression_loss: 0.5636 - classification_loss: 0.0759 - val_loss: 0.8897 - val_regression_loss: 0.6522 - val_classification_loss: 0.2375\n"
     ]
    },
    {
     "name": "stderr",
     "output_type": "stream",
     "text": [
      "Running network: 100% (629 of 629) |#####| Elapsed Time: 0:01:26 Time:  0:01:26\n",
      "Parsing annotations: 100% (629 of 629) |#| Elapsed Time: 0:00:00 Time:  0:00:00\n"
     ]
    },
    {
     "name": "stdout",
     "output_type": "stream",
     "text": [
      "764 instances of class football with average precision: 0.8835\n",
      "mAP: 0.8835\n",
      "\n",
      "Epoch 00008: saving model to model_weights/<keras_retinanet.models.resnet.ResNetBackbone object at 0x7fa37efcb470>_csv_08.h5\n",
      "Epoch 9/10\n",
      "2200/2200 [==============================] - 971s 442ms/step - loss: 0.6235 - regression_loss: 0.5489 - classification_loss: 0.0746 - val_loss: 0.9073 - val_regression_loss: 0.6703 - val_classification_loss: 0.2370\n"
     ]
    },
    {
     "name": "stderr",
     "output_type": "stream",
     "text": [
      "Running network: 100% (629 of 629) |#####| Elapsed Time: 0:01:26 Time:  0:01:26\n",
      "Parsing annotations: 100% (629 of 629) |#| Elapsed Time: 0:00:00 Time:  0:00:00\n"
     ]
    },
    {
     "name": "stdout",
     "output_type": "stream",
     "text": [
      "764 instances of class football with average precision: 0.8786\n",
      "mAP: 0.8786\n",
      "\n",
      "Epoch 00009: saving model to model_weights/<keras_retinanet.models.resnet.ResNetBackbone object at 0x7fa37efcb470>_csv_09.h5\n",
      "Epoch 10/10\n",
      "2200/2200 [==============================] - 970s 441ms/step - loss: 0.6199 - regression_loss: 0.5480 - classification_loss: 0.0719 - val_loss: 0.8621 - val_regression_loss: 0.6570 - val_classification_loss: 0.2051\n"
     ]
    },
    {
     "name": "stderr",
     "output_type": "stream",
     "text": [
      "Running network: 100% (629 of 629) |#####| Elapsed Time: 0:01:26 Time:  0:01:26\n",
      "Parsing annotations: 100% (629 of 629) |#| Elapsed Time: 0:00:00 Time:  0:00:00\n"
     ]
    },
    {
     "name": "stdout",
     "output_type": "stream",
     "text": [
      "764 instances of class football with average precision: 0.8772\n",
      "mAP: 0.8772\n",
      "\n",
      "Epoch 00010: saving model to model_weights/<keras_retinanet.models.resnet.ResNetBackbone object at 0x7fa37efcb470>_csv_10.h5\n"
     ]
    },
    {
     "data": {
      "text/plain": [
       "<keras.callbacks.History at 0x7fa37925b6d8>"
      ]
     },
     "execution_count": 8,
     "metadata": {},
     "output_type": "execute_result"
    }
   ],
   "source": [
    "## Train for 10 epochs\n",
    "training_model.fit_generator(\n",
    "        generator=train_generator,\n",
    "        steps_per_epoch=2200,\n",
    "        epochs=10,\n",
    "        verbose=1,\n",
    "        callbacks=callbacks,\n",
    "        workers=8,\n",
    "        use_multiprocessing=True,\n",
    "        max_queue_size=10,\n",
    "        validation_data=validation_generator)"
   ]
  }
 ],
 "metadata": {
  "kernelspec": {
   "display_name": "Python (torch)",
   "language": "python",
   "name": "torch"
  },
  "language_info": {
   "codemirror_mode": {
    "name": "ipython",
    "version": 3
   },
   "file_extension": ".py",
   "mimetype": "text/x-python",
   "name": "python",
   "nbconvert_exporter": "python",
   "pygments_lexer": "ipython3",
   "version": "3.7.4"
  }
 },
 "nbformat": 4,
 "nbformat_minor": 2
}
