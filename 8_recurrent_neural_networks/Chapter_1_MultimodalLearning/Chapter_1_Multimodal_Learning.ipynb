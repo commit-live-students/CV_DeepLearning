{
 "cells": [
  {
   "cell_type": "markdown",
   "metadata": {},
   "source": [
    "# 1. Introduction\n",
    "\n",
    "Hi guys. Hope you are doing good. In this chapter we will talk about recurrent neural networks (RNN) and try to use them for some practical applications. **Wait a minute dude!** *what are you talking about?* *and first of all what is an RNN?* Well I know these are the first reactions I would going to get. So let me tell you a small story guys. Last week I was at a photo exhibition in the town and as expected there are several demonstration photographs from worldwide. Which includes interesting architectures, streets, wild life etc. while watching them my friend Rohit asked me to tell a brief description of a photograph related to wild life. And you know I don’t even have any clue about the animal in that picture; so point of description is far away from me. This was embarrassing. No? Well I get back to the home with my lower self esteem. And then this idea clicked into my mind; *What if I can write an algorithm to do the same?* let me help you with this; if I will give you an algorithm which can read your input image and automatically generate an image description for you; will it be helpful? **What?** *Does it even possible for a computer algorithm to tell me what is happening in the picture?* Well the answer is Yes! it is possible. **How?** Well, welcome to the field of **multimodal deep learning**."
   ]
  },
  {
   "cell_type": "markdown",
   "metadata": {},
   "source": [
    "# 2. What is multimodal?\n",
    "Multimodal; it is actually two words which have been combined together i.e. multi and Modal. Please give attention here it is not *model*. It is *modal*. Modal comes from mods; which means distributions. I bet you have seen Gaussian distribution somewhere in statistics it looks like following;\n",
    "\n",
    "<img src='1_GaussianDistribution.png' width=450>\n",
    "\n",
    "In above figure you can see there is only one Gaussian distribution with one mean (0) and corresponding standard deviation. Now suppose we add one more distribution to this data with some different mean value; above plot will look like;\n",
    "\n",
    "<img src='2_GaussianDistribution.png' width=450>\n",
    "\n",
    "Figure above shows a bimodal Gaussian distribution which consist of two distributions with mean 0 and standard deviation 1 and mean 5 and standard deviation of 1 respectively. This distribution known as *bimodal distribution* as it has two distributions, and you can also call it a multimodal data distribution. \n"
   ]
  },
  {
   "cell_type": "markdown",
   "metadata": {},
   "source": [
    "# 2.1 Multimodal Learning\n",
    "\n",
    "In real world, when we are talking about multimodal learning, actually we are talking about information which possesses multiple distributions. Most of the time the source of the information for different distributions are different. \n",
    "\n",
    "So, we will learn about; how to fuse information from different domains and then process them together to generate a meaningful output from there. For example when we work in computer vision domain, we can get colour and intensity information of the image from a simple CMOS sensor which almost every imaging device have, and to get accurate knowledge about foreground and background objects we can fuse this colour or intensity information with depth information, which can be acquired by IR sensors or from stereo camera arrangement, this kind of system known as RGB-D systems, and it is a very good example of multimodal information.\n",
    "\n",
    "But our task is not ending at the information retrieval. We need to process that information to get meaningful outcome from it. Following are few examples of multimodal learning task. \n",
    "\n",
    "   - Object segmentation using deep learning on RGB-D information. \n",
    "   - Fuse the information from audio visual sources and use this information for efficient language processing tasks. \n",
    "   - Or we can fuse the information from visual and textual sources to generate descriptions for the images. \n",
    "\n",
    "Yup you read it right, image description generation using deep learning. *Can we do it?* What do you think? Well (*Spoiler ahead*) we can create a model for this task and interesting thing is we will do it by ourselves! Sounds interesting? Let’s start with building our basics in the domain.\n"
   ]
  },
  {
   "cell_type": "markdown",
   "metadata": {},
   "source": [
    "# 2.2 Multimodal learning architecture\n",
    "\n",
    "As we have just discussed that processing the information from different domain and make meaningful results out of it using machine learning algorithms known as multimodal learning, we can show this domain fusion using following figure;\n",
    "\n",
    "<img src='3_MultimodalLearningParadigm.png' width=450>\n",
    "\n",
    "In figure above shows information fusion from 3 different domains, i.e. visual, where we process the visual information (images) like image classification or object localization; Textual, where we process text information like in language processing, word or character prediction; audio is related to speech processing. By combining all these information we can create some interesting classifier frameworks; and one of them we will try in this chapter.\n",
    "\n",
    "Now before start to make our delicious recipe of Image captioning model. First of all we need to write down the key ingredients for the recipe. So we will need to have:\n",
    "\n",
    "- At least two information sources i.e Image and Text data.\n",
    "- Information processing model for each source (We will talk about it in a while).\n",
    "- One learning model to learn combined information.\n",
    "\n",
    "Now if you look at the second point; we will need to have information processing model, which actually is a feature extractor network, it will responsible to extract meaningful features from the input data for example, if input is an image then the feature extractor will extract the features regarding the patterns or objects in the image.\n",
    "Following figure shows a typical architecture for multimodal information analysis;\n",
    "\n",
    "<img src='4_MultimodalArch.png' width=400>\n",
    "\n",
    "As you can see in above architecture, we are using two different feature extractors as there is no correlation between the information of two sources and in most of the cases both the sources will from different domain for e.g. visual and textual. "
   ]
  },
  {
   "cell_type": "markdown",
   "metadata": {},
   "source": [
    "# 3. Caption Generator\n",
    "\n",
    "Our model will be based on “merge-model” described by Marc Tanti, et al. in their papers of image caption generation. Their architecture looks something like following figure;\n",
    "\n",
    "<img src='5_Merge_Model_for_Image_Captioning.png' width=500>\n",
    "\n",
    "And we are also working with the same workflow; we can summarize our process as;\n",
    "\n",
    "- Image Feature Extractor. This is a 16-layer VGG model pre-trained on the ImageNet dataset. We have pre-processed the photos with the VGG model (without the output layer) and will use the extracted features predicted by this model as input.\n",
    "- Sequence Processor. This is a word embedding layer for handling the text input, followed by a Long Short-Term Memory (LSTM) recurrent neural network layer.\n",
    "- Decoder (for lack of a better name). Both the feature extractor and sequence processor output a fixed-length vector. These are merged together and processed by a dense layer to make a final prediction.\n",
    "\n",
    "So this will be our basic flow for image caption generation. We will go into the detail of this architecture once we will reach there."
   ]
  },
  {
   "cell_type": "markdown",
   "metadata": {},
   "source": [
    "# 4 How Multimodal works?\n",
    "\n",
    "Now before going deep into our main application lets try to understand, how we can process multiple information from a multimodal architecture. In this section we will implement a simple multimodal architecture to process artificial information generated by two sources.\n",
    "\n",
    "Key Ingredients of our recipe will be same as we have discussed in multimodal learning architecture.\n",
    "\n",
    "- Two information sources.\n",
    "- Information processing model for each source.\n",
    "- One learning model to learn combined information.\n",
    "\n",
    "Let's start with the information sources.\n",
    "\n",
    "## 4.1 Information Sources\n",
    "\n",
    "Now we will try putting these blocks into our python file; for this we will generate a toy data set which will have two information sources in the form of two Gaussian distribution with different mean and variances. So let’ start with information generation, we will consider one distribution as the visual source and other is from textual source. Code listing will as follows;"
   ]
  },
  {
   "cell_type": "code",
   "execution_count": 16,
   "metadata": {
    "collapsed": false
   },
   "outputs": [
    {
     "data": {
      "image/png": "[encoded data removed]",
      "text/plain": [
       "<Figure size 432x288 with 1 Axes>"
      ]
     },
     "metadata": {},
     "output_type": "display_data"
    }
   ],
   "source": [
    "# Import numpy for matrix algebra and numerical calculations.\n",
    "import numpy as np\n",
    "\n",
    "#import matplotlib for information visualization\\\n",
    "import matplotlib.pyplot as plt\n",
    "\n",
    "%matplotlib inline\n",
    "#Number of Sample points\n",
    "n = 400\n",
    "\n",
    "#Probability of distribution\n",
    "p_c = 0.5\n",
    "\n",
    "#Let's generate a binomial distribution for class variable\n",
    "#It will divide the 50% samples in class 1 and 0 both\n",
    "c = np.random.binomial(n=1, p=p_c, size=n)\n",
    "\n",
    "#Our two information sources will be 2 bivariate Gaussian distribution\n",
    "#So we need to define 2 mean value for each distribution\n",
    "\n",
    "#Mean values for Visual data set\n",
    "mu_v_0 = 1.0\n",
    "mu_v_1 = 8.0\n",
    "\n",
    "#Mean values for textual data set\n",
    "mu_t_0 = 13.0\n",
    "mu_t_1 = 19.0\n",
    "\n",
    "#Now we will generate the two distributions here\n",
    "x_v = np.random.randn(n) + np.where(c == 0, mu_v_0, mu_v_1)\n",
    "x_t = np.random.randn(n) + np.where(c == 0, mu_t_0, mu_t_1)\n",
    "\n",
    "#Let's normalize data with the mean value\n",
    "x_v = x_v - x_v.mean()\n",
    "x_t = x_t - x_t.mean()\n",
    "\n",
    "#Visualize the two classes with the combine information\n",
    "plt.scatter(x_v, x_t, c=np.where(c == 0, 'blue', 'red'))\n",
    "plt.xlabel('visual modality')\n",
    "plt.ylabel('textual modality');\n",
    "plt.show()"
   ]
  },
  {
   "cell_type": "markdown",
   "metadata": {},
   "source": [
    "So as you can see in above figure we have two class responses in there, which are shown by two colours, and both the classes have created by combination of two modalities; on x axes you can see visual modality, while on y axes textual modality is presented, so when we pick any point from the figure above its class will be estimated by the combined information from both the modalities.\n",
    "Now we can draw the samples from above distributions; for inference task we will create information data from above distribution. Let’s see how to do it."
   ]
  },
  {
   "cell_type": "code",
   "execution_count": 17,
   "metadata": {
    "collapsed": true
   },
   "outputs": [],
   "source": [
    "#Define number of points in the sample set \n",
    "resolution = 1000\n",
    "\n",
    "#Create a linear sample set from visual information distribution\n",
    "vs = np.linspace(x_v.min(), x_v.max(), resolution)\n",
    "\n",
    "#Create linear sample set from textual information distribution\n",
    "ts = np.linspace(x_t.min(), x_t.max(), resolution)\n",
    "\n",
    "#In following lines we will propagate these sample point to create\n",
    "#proper data set, it will help to create pair of both the information \n",
    "vs, ts = np.meshgrid(vs, ts)\n",
    "\n",
    "#Here we will flatten our arrays\n",
    "vs = np.ravel(vs)\n",
    "ts = np.ravel(ts)"
   ]
  },
  {
   "cell_type": "markdown",
   "metadata": {},
   "source": [
    "So above script will give us to 1D array with the information generated by two different sources (Gaussian distributions). Now once we have samples with us we are ready to create feature extractors for both the information."
   ]
  },
  {
   "cell_type": "markdown",
   "metadata": {},
   "source": [
    "## 4.2 Feature Extractor\n",
    "\n",
    "Now we will move ahead and design our feature extractors for processing the information; we will create two neural networks for this task; one will process the visual information and other will process the textual information.\n",
    "Following code snippet will first extract from information and then we will combine the information and pass it to the final classifier to classify the combined information according to training data.\n",
    "\n",
    "Following code snippet will create useful variables required later in our architecture;"
   ]
  },
  {
   "cell_type": "code",
   "execution_count": 18,
   "metadata": {
    "collapsed": true
   },
   "outputs": [],
   "source": [
    "# Import TensorFlow to create feature extractor\n",
    "import tensorflow as tf\n",
    "\n",
    "#Let's start with creating variables\n",
    "\n",
    "#It will store the visual information\n",
    "visual = tf.placeholder(tf.float32, shape=[None])\n",
    "\n",
    "#This will store textual information\n",
    "textual = tf.placeholder(tf.float32, shape=[None])\n",
    "\n",
    "#And the final one will be responsible for holding class variable\n",
    "target = tf.placeholder(tf.int32, shape=[None])\n",
    " \n",
    "#As we are working wit a binary problem \n",
    "NUM_CLASSES = 2\n",
    "\n",
    "#We will use fixed number of neuron for every layer \n",
    "HIDDEN_LAYER_DIM = 1"
   ]
  },
  {
   "cell_type": "markdown",
   "metadata": {},
   "source": [
    "As you can see first we have created variables to store data from the source, and a variable to store the class responses, as this is a toy dataset we will limit our network architecture very simple by using a single neuron in each layer.\n",
    "\n",
    "In following snippet, we will implement our feature extractor for visual information processing;"
   ]
  },
  {
   "cell_type": "code",
   "execution_count": 19,
   "metadata": {
    "collapsed": true
   },
   "outputs": [],
   "source": [
    "#This is our Visual feature extractor,\n",
    "#It will be responsible for extraction of useful features,\n",
    "#from visual samples, we will use tanh as activation function.\n",
    "h_v = tf.layers.dense(tf.reshape(visual, [-1, 1]),\n",
    "                      HIDDEN_LAYER_DIM,\n",
    "                      activation=tf.nn.tanh)"
   ]
  },
  {
   "cell_type": "markdown",
   "metadata": {},
   "source": [
    "You can think this network as an image processing network, which is used for image classification or object recognition problems, here we have not used any convolutional layer to keep the network simple; we will use tanh activation function.\n",
    "\n",
    "Next we will implement a network to process our textual information; \n"
   ]
  },
  {
   "cell_type": "code",
   "execution_count": 20,
   "metadata": {
    "collapsed": true
   },
   "outputs": [],
   "source": [
    "#This is our Textual feature extractor,\n",
    "#It will be responsible for extraction of useful features,\n",
    "#from visual samples, we will use tanh as activation function.\n",
    "h_t = tf.layers.dense(tf.reshape(textual, [-1, 1]),\n",
    "                      HIDDEN_LAYER_DIM,\n",
    "                      activation=tf.nn.tanh)"
   ]
  },
  {
   "cell_type": "markdown",
   "metadata": {},
   "source": [
    "You can think this network as a recurrent neural network or a LSTM network, which is widely, used networks for text prediction. Here we will exact similar architecture as we have used in visual feature extractor."
   ]
  },
  {
   "cell_type": "markdown",
   "metadata": {},
   "source": [
    "## 4.3 Aggregator Network\n",
    "\n",
    "Now is the time to combine the information from both the networks; we will do it in following code snippet;"
   ]
  },
  {
   "cell_type": "code",
   "execution_count": 21,
   "metadata": {
    "collapsed": true
   },
   "outputs": [],
   "source": [
    "#Now as we have features from both the sources,\n",
    "#we will fuse the information from both the sources,\n",
    "#by creating a stack, this will be our aggregator network \n",
    "fuse = tf.layers.dense(tf.stack([h_v, h_t], axis=1),\n",
    "                    HIDDEN_LAYER_DIM,\n",
    "                    activation=tf.nn.tanh)"
   ]
  },
  {
   "cell_type": "markdown",
   "metadata": {},
   "source": [
    "So as you can see in above layer, we have created a stack of processed information, here is the information fusion happens, this network is also similar to our previous two, the only difference is the input of the network, which is in form of stacked information.\n",
    "\n",
    "Now we are ready to process this stacked information; the following part is also the part of aggregator network;\n"
   ]
  },
  {
   "cell_type": "code",
   "execution_count": 22,
   "metadata": {
    "collapsed": true
   },
   "outputs": [],
   "source": [
    "#Flatten the data here \n",
    "fuse = tf.layers.flatten(fuse)\n",
    "\n",
    "#Following layers are the part of the same aggregator network \n",
    "z = tf.layers.dense(fuse,HIDDEN_LAYER_DIM,activation=tf.nn.sigmoid)\n",
    "\n",
    "#This one is our final dens layer which used to convert network output\n",
    "#for the two class\n",
    "logits = tf.layers.dense(z, NUM_CLASSES)\n",
    "\n",
    "#We want probabilities at the output, sigmoid will help us\n",
    "prob = tf.nn.sigmoid(logits)"
   ]
  },
  {
   "cell_type": "markdown",
   "metadata": {},
   "source": [
    "As you can see, we have just added a few more layer nothing fancy is happening here, we are using sigmoid probabilities at the output, while for loss calculation we are using a simple dense layer without any activation function.\n",
    "I hope you are putting all the snippets in our application one by one; now we need to analyse the performance of our network, so that we can train weights accordingly; for this we will need to define loss function; we will use sigmoid cross entropy for calculating the loss made by our network; we can write it as following;\n"
   ]
  },
  {
   "cell_type": "code",
   "execution_count": 23,
   "metadata": {
    "collapsed": true
   },
   "outputs": [],
   "source": [
    "#We will use Sigmoid cross entropy as the loss function\n",
    "loss = tf.losses.sigmoid_cross_entropy(multi_class_labels=\n",
    "                                       tf.one_hot(target, depth=2),\n",
    "                                       logits=logits)"
   ]
  },
  {
   "cell_type": "markdown",
   "metadata": {},
   "source": [
    "To optimize this loss we will use stochastic gradient descent with adaptive momentum; in short ADAM optimizer, this optimizer will work to reduce the loss made by network, following is the code snippet;\n"
   ]
  },
  {
   "cell_type": "code",
   "execution_count": 24,
   "metadata": {
    "collapsed": true
   },
   "outputs": [],
   "source": [
    "#Here we optimize the loss\n",
    "optimizer = tf.train.AdamOptimizer(learning_rate=0.1)\n",
    "train_op = optimizer.minimize(loss)"
   ]
  },
  {
   "cell_type": "markdown",
   "metadata": {},
   "source": [
    "So now we are ready to train our architecture as we have all ingredients for training, let’s quickly write a function which takes care of the training of our network;"
   ]
  },
  {
   "cell_type": "code",
   "execution_count": 25,
   "metadata": {
    "collapsed": true
   },
   "outputs": [],
   "source": [
    "def train(train_op, loss,sess):\n",
    "    \n",
    "    #TRAIN_OP: optimizer\n",
    "    #LOSS: calculated loss\n",
    "    #SESS: Tensorflow session\n",
    "    \n",
    "    #First initialize all the variables created \n",
    "    sess.run(tf.global_variables_initializer())\n",
    "    \n",
    "    #We will monitor the loss through each epoch \n",
    "    losses = []\n",
    "    \n",
    "    #Let's run the optimization for 100 epochs\n",
    "    for epoch in range(100):\n",
    "        _, l = sess.run([train_op, loss], {visual: x_v,\n",
    "                                           textual: x_t,\n",
    "                                           target: c})\n",
    "        losses.append(l)\n",
    "    \n",
    "    #Here we will plot the training loss\n",
    "    plt.plot(losses, label='loss')\n",
    "    plt.title('loss')"
   ]
  },
  {
   "cell_type": "markdown",
   "metadata": {},
   "source": [
    "Now we will create a tensorflow session and pass it along with other parameters to the train function; in following lines we will run the session and train our networks using samples drawn from our different Gaussian distribution, these sample we have already extracted;\n",
    "\n"
   ]
  },
  {
   "cell_type": "code",
   "execution_count": 26,
   "metadata": {
    "collapsed": false
   },
   "outputs": [
    {
     "data": {
      "image/png": "[encoded data removed]",
      "text/plain": [
       "<Figure size 432x288 with 1 Axes>"
      ]
     },
     "metadata": {},
     "output_type": "display_data"
    }
   ],
   "source": [
    "#Create a tensorflow session\n",
    "sess = tf.Session()\n",
    "\n",
    "#Start training of the network    \n",
    "train(train_op, loss,sess)\n",
    "\n",
    "#Run the session\n",
    "zs, probs = sess.run([z, prob], {visual: vs, textual: ts})"
   ]
  },
  {
   "cell_type": "markdown",
   "metadata": {},
   "source": [
    "On the x-axes we are plotting number of epochs, and on y-axes different loss values, as we have trained our network for 100 epochs you can see there is a very nice curve which shows how well our models are learning.\n",
    "\n",
    "So decrement in the loss value shows promising improvement in the model performance, but to visualize it on our distributions, we will need to write a simple function which will create decision boundary around our information sources.\n",
    "\n",
    "Let’s write it down and see how well our multimodal architecture working.\n"
   ]
  },
  {
   "cell_type": "code",
   "execution_count": 27,
   "metadata": {
    "collapsed": true
   },
   "outputs": [],
   "source": [
    "def plot_evaluations(evaluation, cmap, title, labels):\n",
    "\n",
    "    #EVALUATION: Probability op from network\n",
    "    #CMAP: colormap options\n",
    "    #TITLE: plot title \n",
    "    #LABELS: Class labels\n",
    "        \n",
    "\n",
    "    #First we will plot our distributions as we have done previously\n",
    "    plt.scatter(((x_v - x_v.min()) * resolution / (x_v - x_v.min()).max()),\n",
    "                ((x_t - x_t.min()) * resolution / (x_t - x_t.min()).max()),\n",
    "                c=np.where(c == 0, 'blue', 'red'))\n",
    "    \n",
    "    #Give the titles to our plots with labeling the axes\n",
    "    plt.title(title, fontsize=14)\n",
    "    plt.xlabel('visual modality')\n",
    "    plt.ylabel('textual modality')\n",
    "    \n",
    "    #Here we will create a color map to draw the boundaries\n",
    "    plt.imshow(evaluation.reshape([resolution, resolution]),\n",
    "               origin='lower',\n",
    "               cmap=cmap,\n",
    "               alpha=0.5)\n",
    "    \n",
    "    #Let's put a color bar to create a fancy looking plot\n",
    "    cbar = plt.colorbar(ticks=[evaluation.min(), evaluation.max()])\n",
    "    cbar.ax.set_yticklabels(labels)\n",
    "    cbar.ax.tick_params(labelsize=13)"
   ]
  },
  {
   "cell_type": "markdown",
   "metadata": {},
   "source": [
    "Now we are ready to plot our decision boundaries by calling our function;"
   ]
  },
  {
   "cell_type": "code",
   "execution_count": 28,
   "metadata": {
    "collapsed": false
   },
   "outputs": [
    {
     "data": {
      "image/png": "[encoded data removed]",
      "text/plain": [
       "<Figure size 432x288 with 2 Axes>"
      ]
     },
     "metadata": {},
     "output_type": "display_data"
    }
   ],
   "source": [
    "#We will plot the probabilities    \n",
    "plot_evaluations(probs[:, 1],\n",
    "                 cmap='bwr',\n",
    "                 title='$C$ prediction',\n",
    "                 labels=['$C=0$', '$C=1$'])\n",
    "\n",
    "#Show the plots over here\n",
    "plt.show()"
   ]
  },
  {
   "cell_type": "markdown",
   "metadata": {},
   "source": [
    "Looking perfect! This is what we want from our network, as you can see we have processed information collected from two different sources and classify the samples in different classes correctly.\n",
    "\n",
    "# 5. Summary\n",
    "\n",
    "So this is how multimodal learning works. We collect information and combined them to get awesome results. Now I think this much introduction is enough to understand the concepts of multimodal learning. Now is the time to wet our feet into the domain. In next sections we will try to solve our problem of Image caption generation. *Don’t you remember? How can you forget it man?* We need to implement an Image description generator or also known as Image Caption Generation. So we will start with understanding about our feature extractors a.k.a information processors."
   ]
  },
  {
   "cell_type": "markdown",
   "metadata": {},
   "source": [
    "# Quiz\n",
    "\n",
    "## Q.1 What do you mean by multi-modal learning?\n",
    "\n",
    "- a) Multiple machine learning model based system.\n",
    "- b) Multiple information source processing based learning.\n",
    "- c) Multiple input based system.\n",
    "- d) None of the above\n",
    "\n",
    "Ans: B) A multimodal learning system is created to learn information from two different modalities (sources).\n",
    "\n",
    "## Q.2 Which algorithm is used to update weights of in a layer?\n",
    "\n",
    "- a) Backpropagation algorithm.\n",
    "- b) Stochastic Gradient Descent (SGD).\n",
    "- c) Regularizations.\n",
    "- d) Noe of the above.\n",
    "\n",
    "Ans: B) SGD is used to make a weight update; while Backpropagation is used to transfer error backward in the network.\n",
    "\n",
    "## Q.3 Optimizers are used for?\n",
    "\n",
    "- a) Optimizing network weights.\n",
    "- b) Optimizing learning rate.\n",
    "- c) Optimizing regularizer.\n",
    "- d) None of the above.\n",
    "\n",
    "Ans: A) Optimizers such as SGD are used to optimize weights in the network. \n",
    "\n",
    "## Q.4 What is the significance of an aggregator network in multi-modal learning?\n",
    "\n",
    "- a) To process the multimodal informations.\n",
    "- b) To generate predictions.\n",
    "- c) Both A and B\n",
    "- d) None of the above.\n",
    "\n",
    "Ans: B) An aggregator network is used to generate network output. While feature extractor are used to process multimodal informations.\n"
   ]
  },
  {
   "cell_type": "code",
   "execution_count": null,
   "metadata": {
    "collapsed": true
   },
   "outputs": [],
   "source": []
  }
 ],
 "metadata": {
  "anaconda-cloud": {},
  "kernelspec": {
   "display_name": "Python 3",
   "language": "python",
   "name": "python3"
  },
  "language_info": {
   "codemirror_mode": {
    "name": "ipython",
    "version": 3
   },
   "file_extension": ".py",
   "mimetype": "text/x-python",
   "name": "python",
   "nbconvert_exporter": "python",
   "pygments_lexer": "ipython3",
   "version": "3.5.2"
  }
 },
 "nbformat": 4,
 "nbformat_minor": 2
}
